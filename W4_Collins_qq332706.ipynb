{
 "cells": [
  {
   "cell_type": "markdown",
   "metadata": {},
   "source": [
    "## Assignment for Module 4, Training Models\n",
    "\n",
    "In this assignment you will train different models on a given data set, and find the one that performs best"
   ]
  },
  {
   "cell_type": "markdown",
   "metadata": {},
   "source": [
    "### Getting the data for the assignment (similar to the notebook from chapter 2 of Hands-On...)"
   ]
  },
  {
   "cell_type": "code",
   "execution_count": 1,
   "metadata": {},
   "outputs": [],
   "source": [
    "import os\n",
    "import tarfile\n",
    "from six.moves import urllib\n",
    "import pandas as pd\n",
    "\n",
    "DOWNLOAD_ROOT = \"https://raw.githubusercontent.com/ageron/handson-ml/master/\"\n",
    "HOUSING_PATH = os.path.join(\"datasets\", \"housing\")\n",
    "HOUSING_URL = DOWNLOAD_ROOT + \"datasets/housing/housing.tgz\"\n",
    "\n",
    "def fetch_housing_data(housing_url=HOUSING_URL, housing_path=HOUSING_PATH):\n",
    "    if not os.path.isdir(housing_path):\n",
    "        os.makedirs(housing_path)\n",
    "    tgz_path = os.path.join(housing_path, \"housing.tgz\")\n",
    "    urllib.request.urlretrieve(housing_url, tgz_path)\n",
    "    housing_tgz = tarfile.open(tgz_path)\n",
    "    housing_tgz.extractall(path=housing_path)\n",
    "    housing_tgz.close()\n",
    "    \n",
    "fetch_housing_data()\n",
    "\n",
    "def load_housing_data(housing_path=HOUSING_PATH):\n",
    "    csv_path = os.path.join(housing_path, \"housing.csv\")\n",
    "    return pd.read_csv(csv_path)\n",
    "\n",
    "housing = load_housing_data()"
   ]
  },
  {
   "cell_type": "markdown",
   "metadata": {},
   "source": [
    "### Fix the categories in the categorical variable"
   ]
  },
  {
   "cell_type": "code",
   "execution_count": 2,
   "metadata": {},
   "outputs": [],
   "source": [
    "d = {'<1H OCEAN':'LESS_1H_OCEAN', 'INLAND':'INLAND', 'ISLAND':'ISLAND', 'NEAR BAY':'NEAR_BAY', 'NEAR OCEAN':'NEAR_OCEAN'}\n",
    "housing['ocean_proximity'] = housing['ocean_proximity'].map(lambda s: d[s])"
   ]
  },
  {
   "cell_type": "markdown",
   "metadata": {},
   "source": [
    "### Add 2 more features"
   ]
  },
  {
   "cell_type": "code",
   "execution_count": 3,
   "metadata": {},
   "outputs": [],
   "source": [
    "housing[\"rooms_per_household\"] = housing[\"total_rooms\"]/housing[\"households\"]\n",
    "housing[\"population_per_household\"]=housing[\"population\"]/housing[\"households\"]"
   ]
  },
  {
   "cell_type": "markdown",
   "metadata": {},
   "source": [
    "### Fix missing data"
   ]
  },
  {
   "cell_type": "code",
   "execution_count": 4,
   "metadata": {},
   "outputs": [],
   "source": [
    "median = housing[\"total_bedrooms\"].median()\n",
    "housing[\"total_bedrooms\"].fillna(median, inplace=True) "
   ]
  },
  {
   "cell_type": "markdown",
   "metadata": {},
   "source": [
    "### Create dummy variables based on the categorical variable"
   ]
  },
  {
   "cell_type": "code",
   "execution_count": 5,
   "metadata": {},
   "outputs": [],
   "source": [
    "one_hot = pd.get_dummies(housing['ocean_proximity'])\n",
    "housing = housing.drop('ocean_proximity', axis=1)\n",
    "housing = housing.join(one_hot)"
   ]
  },
  {
   "cell_type": "markdown",
   "metadata": {},
   "source": [
    "### Check the data"
   ]
  },
  {
   "cell_type": "code",
   "execution_count": 6,
   "metadata": {},
   "outputs": [
    {
     "name": "stdout",
     "output_type": "stream",
     "text": [
      "<class 'pandas.core.frame.DataFrame'>\n",
      "RangeIndex: 20640 entries, 0 to 20639\n",
      "Data columns (total 16 columns):\n",
      "longitude                   20640 non-null float64\n",
      "latitude                    20640 non-null float64\n",
      "housing_median_age          20640 non-null float64\n",
      "total_rooms                 20640 non-null float64\n",
      "total_bedrooms              20640 non-null float64\n",
      "population                  20640 non-null float64\n",
      "households                  20640 non-null float64\n",
      "median_income               20640 non-null float64\n",
      "median_house_value          20640 non-null float64\n",
      "rooms_per_household         20640 non-null float64\n",
      "population_per_household    20640 non-null float64\n",
      "INLAND                      20640 non-null uint8\n",
      "ISLAND                      20640 non-null uint8\n",
      "LESS_1H_OCEAN               20640 non-null uint8\n",
      "NEAR_BAY                    20640 non-null uint8\n",
      "NEAR_OCEAN                  20640 non-null uint8\n",
      "dtypes: float64(11), uint8(5)\n",
      "memory usage: 1.8 MB\n"
     ]
    }
   ],
   "source": [
    "housing.info()"
   ]
  },
  {
   "cell_type": "markdown",
   "metadata": {},
   "source": [
    "# ASSIGNMENT\n",
    "\n",
    "Using the familiar California housing dataset (target = 'median_house_value'), train several models using various regularization techniques to improve model accuracy. "
   ]
  },
  {
   "cell_type": "markdown",
   "metadata": {},
   "source": [
    "### 1.1 Partition into train and test\n",
    "\n",
    "Use `train_test_split` from `sklearn.model_selection` to partition the dataset into 70% for training and 30% for testing.\n",
    "\n",
    "You can use the 70% for training set as both training and validation by using cross-validation.\n"
   ]
  },
  {
   "cell_type": "code",
   "execution_count": 7,
   "metadata": {},
   "outputs": [],
   "source": [
    "from sklearn.model_selection import train_test_split\n",
    "target_col = 'median_house_value'\n",
    "\n",
    "train_set,test_set = train_test_split(housing, train_size=0.7) #70% training, 30% testing\n",
    "\n",
    "x_train = train_set.drop(target_col, axis =1)\n",
    "y_train = train_set[target_col].copy()\n",
    "\n",
    "x_test = test_set.drop(target_col, axis =1)\n",
    "y_test = test_set[target_col].copy()"
   ]
  },
  {
   "cell_type": "markdown",
   "metadata": {},
   "source": [
    "### 1.2 Polynomial transformations"
   ]
  },
  {
   "cell_type": "markdown",
   "metadata": {},
   "source": [
    "Use PolynomialFeatures from sklearn.preprocessing"
   ]
  },
  {
   "cell_type": "code",
   "execution_count": 8,
   "metadata": {},
   "outputs": [
    {
     "data": {
      "text/plain": [
       "(6193, 136)"
      ]
     },
     "execution_count": 8,
     "metadata": {},
     "output_type": "execute_result"
    }
   ],
   "source": [
    "from sklearn.preprocessing import PolynomialFeatures\n",
    "\n",
    "poly = PolynomialFeatures(2) #DEGREE 2\n",
    "\n",
    "x_train_poly = poly.fit_transform(x_train)\n",
    "x_test_poly = poly.fit_transform(x_test)\n",
    "x_test_poly.shape"
   ]
  },
  {
   "cell_type": "markdown",
   "metadata": {},
   "source": [
    "##### You should obtain X_train and X_test with 136 columns each, since originally you had 15 features.\n",
    "\n",
    "##### With m original features, the new added polynomial features of degree 2 are: $(m^2-m)/2+m+1$.\n",
    "\n",
    "##### These, plus the original features gives a total of  $(m^2-m)/2+2m+1$"
   ]
  },
  {
   "cell_type": "code",
   "execution_count": 9,
   "metadata": {},
   "outputs": [
    {
     "name": "stdout",
     "output_type": "stream",
     "text": [
      "Original number of features: 15\n",
      "Final number of features: 136\n"
     ]
    }
   ],
   "source": [
    "print(\"Original number of features: \"+str(len(x_train.columns)))\n",
    "print(\"Final number of features: \"+str(x_train_poly.shape[1]))"
   ]
  },
  {
   "cell_type": "markdown",
   "metadata": {},
   "source": [
    "### 1.3 Scaling features"
   ]
  },
  {
   "cell_type": "markdown",
   "metadata": {},
   "source": [
    "Similarly, use `StandardScaler` from `sklearn.preprocessing` to normalize the training and testing data, using the training data"
   ]
  },
  {
   "cell_type": "code",
   "execution_count": 10,
   "metadata": {},
   "outputs": [],
   "source": [
    "from sklearn.preprocessing import StandardScaler\n",
    "\n",
    "scaler = StandardScaler()\n",
    "x_train_poly_scaled = scaler.fit_transform(x_train_poly) #train the scaler using the training data\n",
    "x_test_poly_scaled = scaler.transform(x_test_poly)"
   ]
  },
  {
   "cell_type": "markdown",
   "metadata": {},
   "source": [
    "#### Comparing models\n",
    "\n",
    "Use this function to display your cross val scores, or you may use your own custom function.\n",
    "\n",
    "**Either way it is important to display your results as you train new models.**"
   ]
  },
  {
   "cell_type": "code",
   "execution_count": 11,
   "metadata": {},
   "outputs": [],
   "source": [
    "def display_scores(scores):\n",
    "    print(\"Scores:\", scores)\n",
    "    print(\"Mean:\", scores.mean())"
   ]
  },
  {
   "cell_type": "markdown",
   "metadata": {},
   "source": [
    "### 2.1 Linear regression on original features (no transformations) --- benchmark\n",
    "\n",
    "Train a simple linear regression model using `cross_val_score` with no regularization or feature transformations. This model will serve as your benchmark."
   ]
  },
  {
   "cell_type": "code",
   "execution_count": 116,
   "metadata": {},
   "outputs": [
    {
     "name": "stdout",
     "output_type": "stream",
     "text": [
      "Scores: [0.62969052 0.67288998 0.63548198 0.63018465]\n",
      "Mean: 0.6420617851774064\n"
     ]
    }
   ],
   "source": [
    "from sklearn.linear_model import LinearRegression\n",
    "from sklearn.model_selection import cross_val_score\n",
    "\n",
    "linear_regression_notrans = LinearRegression()\n",
    "score_linear_regression_notrans = cross_val_score(linear_regression_notrans, x_train, y_train, cv=4)\n",
    "display_scores(score_linear_regression_notrans)"
   ]
  },
  {
   "cell_type": "markdown",
   "metadata": {},
   "source": [
    "### 2.2 Linear regression  (on transformed features: polynomial transformation + scaling)"
   ]
  },
  {
   "cell_type": "markdown",
   "metadata": {},
   "source": [
    "Now do as in **2.1** but with the original and transformed features (136 features)"
   ]
  },
  {
   "cell_type": "code",
   "execution_count": 160,
   "metadata": {},
   "outputs": [
    {
     "name": "stdout",
     "output_type": "stream",
     "text": [
      "Scores: [-1.09515330e+20 -5.12976415e+00  7.05787816e-01 -5.00479077e+18]\n",
      "Mean: -2.8630030305576415e+19\n"
     ]
    }
   ],
   "source": [
    "linear_regression_trans = LinearRegression()\n",
    "score_linear_regression = cross_val_score(linear_regression_trans, x_train_poly_scaled, y_train, cv=4)\n",
    "display_scores(score_linear_regression)"
   ]
  },
  {
   "cell_type": "markdown",
   "metadata": {},
   "source": [
    "If the error on the cross-validation is too high it is because the model is over-fitting. Regularization is needed."
   ]
  },
  {
   "cell_type": "markdown",
   "metadata": {},
   "source": [
    "### 2.3 Ridge regression\n",
    "\n",
    "Using the same transformed dataset from **2.2**, train another linear model but this time apply L2 regularization. Run the model through grid search to find the optimal regularization hyperparams. Print the results. "
   ]
  },
  {
   "cell_type": "code",
   "execution_count": 183,
   "metadata": {},
   "outputs": [],
   "source": [
    "from sklearn.linear_model import Ridge\n",
    "import numpy as np\n",
    "from sklearn.model_selection import GridSearchCV\n",
    "\n",
    "ridge_regression = Ridge()\n",
    "alphas = np.logspace(0,4,base=10,num=100)\n",
    "parameters = {'alpha':alphas}\n",
    "ridge_cv = GridSearchCV(ridge_regression,parameters, cv=4, n_jobs=4, verbose=4)\n",
    "ridge_cv.fit(x_train_poly_scaled, y_train);"
   ]
  },
  {
   "cell_type": "code",
   "execution_count": 184,
   "metadata": {},
   "outputs": [
    {
     "data": {
      "image/png": "[encoded data removed]",
      "text/plain": [
       "<Figure size 792x612 with 1 Axes>"
      ]
     },
     "metadata": {
      "needs_background": "light"
     },
     "output_type": "display_data"
    }
   ],
   "source": [
    "import matplotlib.pyplot as plt\n",
    "import seaborn\n",
    "ridge_scores = pd.DataFrame.from_dict(ridge_cv.cv_results_)\n",
    "f,ax = plt.subplots(figsize=(11,8.5))\n",
    "ax.set(xscale=\"log\")\n",
    "splot=seaborn.scatterplot(x=\"param_alpha\",y=\"mean_test_score\",data=ridge_scores)\n",
    "ax.set(title=\"Ridge Regression Alpha Optimization\");"
   ]
  },
  {
   "cell_type": "code",
   "execution_count": 186,
   "metadata": {},
   "outputs": [
    {
     "name": "stdout",
     "output_type": "stream",
     "text": [
      "Scores: [0.66527456 0.71676072 0.68360691 0.68844831]\n",
      "Mean: 0.688522624021745\n"
     ]
    }
   ],
   "source": [
    "ridge_regression_optimal = ridge_cv.best_estimator_\n",
    "score_ridge_regression = cross_val_score(ridge_regression_optimal,x_train_poly_scaled, y_train, cv=4)\n",
    "display_scores(score_ridge_regression)\n",
    "ridge_regression_optimal"
   ]
  },
  {
   "cell_type": "markdown",
   "metadata": {},
   "source": [
    "### 2.4 Lasso regression\n",
    "\n",
    "Now do the same as in **2.3** but with Lasso"
   ]
  },
  {
   "cell_type": "markdown",
   "metadata": {},
   "source": [
    "### 2.4 Lasso regression\n",
    "\n",
    "Now do the same as in **2.3** but with Lasso"
   ]
  },
  {
   "cell_type": "code",
   "execution_count": 243,
   "metadata": {},
   "outputs": [],
   "source": [
    "from sklearn.linear_model import Lasso\n",
    "from  warnings import simplefilter\n",
    "from sklearn.exceptions import ConvergenceWarning\n",
    "simplefilter(\"ignore\", category=ConvergenceWarning)\n",
    "\n",
    "lasso_regression = Lasso()\n",
    "alphas = np.logspace(0,4,base=10,num=100)\n",
    "parameters = {'alpha':alphas}\n",
    "lasso_cv = GridSearchCV(lasso_regression,parameters, cv=4, n_jobs=4, verbose=4)\n",
    "lasso_cv.fit(x_train_poly_scaled, y_train);"
   ]
  },
  {
   "cell_type": "code",
   "execution_count": 244,
   "metadata": {},
   "outputs": [
    {
     "data": {
      "image/png": "[encoded data removed]",
      "text/plain": [
       "<Figure size 792x612 with 1 Axes>"
      ]
     },
     "metadata": {
      "needs_background": "light"
     },
     "output_type": "display_data"
    }
   ],
   "source": [
    "lasso_scores = pd.DataFrame.from_dict(lasso_cv.cv_results_)\n",
    "f,ax = plt.subplots(figsize=(11,8.5))\n",
    "ax.set(xscale=\"log\")\n",
    "splot=seaborn.scatterplot(x=\"param_alpha\",y=\"mean_test_score\",data=lasso_scores)\n",
    "ax.set(title=\"Lasso Regression Alpha Optimization\");"
   ]
  },
  {
   "cell_type": "code",
   "execution_count": 245,
   "metadata": {},
   "outputs": [
    {
     "name": "stdout",
     "output_type": "stream",
     "text": [
      "Scores: [0.6690259  0.71486271 0.68136721 0.68593131]\n",
      "Mean: 0.6877967828803938\n"
     ]
    },
    {
     "data": {
      "text/plain": [
       "Lasso(alpha=220.51307399030458, copy_X=True, fit_intercept=True, max_iter=1000,\n",
       "      normalize=False, positive=False, precompute=False, random_state=None,\n",
       "      selection='cyclic', tol=0.0001, warm_start=False)"
      ]
     },
     "execution_count": 245,
     "metadata": {},
     "output_type": "execute_result"
    }
   ],
   "source": [
    "lasso_regression_optimal = lasso_cv.best_estimator_\n",
    "score_lasso_regression = cross_val_score(lasso_regression_optimal,x_train_poly_scaled, y_train, cv=4)\n",
    "display_scores(score_lasso_regression)\n",
    "lasso_regression_optimal"
   ]
  },
  {
   "cell_type": "markdown",
   "metadata": {},
   "source": [
    "### 2.5 Elastic Net regression\n",
    "\n",
    "Do the same as in **2.3** and **2.4**, but now with Elastic Net. However, the grid search should be over the parameters alpha and  L1 ratio. Use just 3 values for L1 ratio."
   ]
  },
  {
   "cell_type": "code",
   "execution_count": 262,
   "metadata": {},
   "outputs": [
    {
     "name": "stdout",
     "output_type": "stream",
     "text": [
      "Fitting 4 folds for each of 90 candidates, totalling 360 fits\n"
     ]
    },
    {
     "name": "stderr",
     "output_type": "stream",
     "text": [
      "[Parallel(n_jobs=4)]: Using backend LokyBackend with 4 concurrent workers.\n",
      "[Parallel(n_jobs=4)]: Done  17 tasks      | elapsed:   34.7s\n",
      "[Parallel(n_jobs=4)]: Done  90 tasks      | elapsed:  2.4min\n",
      "[Parallel(n_jobs=4)]: Done 213 tasks      | elapsed:  5.6min\n",
      "[Parallel(n_jobs=4)]: Done 360 out of 360 | elapsed:  6.6min finished\n"
     ]
    }
   ],
   "source": [
    "from sklearn.linear_model import ElasticNet\n",
    "\n",
    "elasticnet_regression = ElasticNet()\n",
    "alphas = np.logspace(-2.5,1.5,base=10,num=30)\n",
    "l1_ratios = np.array([0.2,0.5,0.8])\n",
    "\n",
    "parameters = {'alpha':alphas, 'l1_ratio':l1_ratios}\n",
    "elasticnet_cv = GridSearchCV(elasticnet_regression,parameters, cv=4,n_jobs=4,verbose=4)\n",
    "elasticnet_cv.fit(x_train_poly_scaled, y_train);"
   ]
  },
  {
   "cell_type": "code",
   "execution_count": 265,
   "metadata": {},
   "outputs": [
    {
     "data": {
      "image/png": "[encoded data removed]",
      "text/plain": [
       "<Figure size 792x612 with 1 Axes>"
      ]
     },
     "metadata": {
      "needs_background": "light"
     },
     "output_type": "display_data"
    }
   ],
   "source": [
    "elasticnet_scores = pd.DataFrame.from_dict(elasticnet_cv.cv_results_)\n",
    "elasticnet_scores[\"param_l1_ratio\"] = [\"$%s$\" % x for x in elasticnet_scores[\"param_l1_ratio\"]] #workaround for seaborn issue 1653\n",
    "f,ax = plt.subplots(figsize=(11,8.5))\n",
    "ax.set(xscale=\"log\")\n",
    "splot=seaborn.scatterplot(data=elasticnet_scores,x='param_alpha',y=\"mean_test_score\",hue=\"param_l1_ratio\")\n",
    "ax.set(title=\"Elastic Net Regression Alpha & L1 Ratio Optimization\");"
   ]
  },
  {
   "cell_type": "code",
   "execution_count": 266,
   "metadata": {},
   "outputs": [
    {
     "name": "stdout",
     "output_type": "stream",
     "text": [
      "Scores: [0.66526023 0.71686383 0.68373025 0.68823776]\n",
      "Mean: 0.6885230147006356\n"
     ]
    },
    {
     "data": {
      "text/plain": [
       "ElasticNet(alpha=0.015475873545578892, copy_X=True, fit_intercept=True,\n",
       "           l1_ratio=0.2, max_iter=1000, normalize=False, positive=False,\n",
       "           precompute=False, random_state=None, selection='cyclic', tol=0.0001,\n",
       "           warm_start=False)"
      ]
     },
     "execution_count": 266,
     "metadata": {},
     "output_type": "execute_result"
    }
   ],
   "source": [
    "elasticnet_regression_optimal = elasticnet_cv.best_estimator_\n",
    "score_elasticnet_regression = cross_val_score(elasticnet_regression_optimal,x_train_poly_scaled, y_train, cv=4)\n",
    "display_scores(score_elasticnet_regression)\n",
    "elasticnet_regression_optimal"
   ]
  },
  {
   "cell_type": "markdown",
   "metadata": {},
   "source": [
    "### 3.1  Expected Results\n",
    "\n",
    "Before you compute the final_rmse on the test data using your best model, pause and reflect:\n",
    "- Does your best model have high variance? \n",
    "- Why was your best performing model better than the others?\n",
    "- What is your expected rmse score on your test data? "
   ]
  },
  {
   "cell_type": "markdown",
   "metadata": {},
   "source": [
    "##### YOUR ANSWER HERE "
   ]
  },
  {
   "cell_type": "markdown",
   "metadata": {},
   "source": [
    "### 3.2. Evaluating your best model on TESTING data\n",
    "\n",
    "Of the models you created above, choose the best one to test on the test set."
   ]
  },
  {
   "cell_type": "code",
   "execution_count": 269,
   "metadata": {},
   "outputs": [
    {
     "name": "stdout",
     "output_type": "stream",
     "text": [
      "92027.99293983718\n"
     ]
    },
    {
     "data": {
      "text/plain": [
       "ElasticNet(alpha=0.015475873545578892, copy_X=True, fit_intercept=True,\n",
       "           l1_ratio=0.2, max_iter=1000, normalize=False, positive=False,\n",
       "           precompute=False, random_state=None, selection='cyclic', tol=0.0001,\n",
       "           warm_start=False)"
      ]
     },
     "execution_count": 269,
     "metadata": {},
     "output_type": "execute_result"
    }
   ],
   "source": [
    "from sklearn.metrics import mean_squared_error\n",
    "\n",
    "models = [(linear_regression_trans, score_linear_regression.mean()),\n",
    "          (ridge_cv.best_estimator_,ridge_cv.best_score_),\n",
    "          (lasso_cv.best_estimator_, lasso_cv.best_score_),\n",
    "          (elasticnet_cv.best_estimator_,elasticnet_cv.best_score_)]\n",
    "\n",
    "best_model = max(models,key=lambda item:item[1])[0]\n",
    "\n",
    "y_predict = best_model.predict(x_test_poly_scaled)\n",
    "\n",
    "final_mse = mean_squared_error(y_test, y_predict)\n",
    "final_rmse = np.sqrt(final_mse)\n",
    "print(final_rmse)\n",
    "best_model"
   ]
  },
  {
   "cell_type": "code",
   "execution_count": 271,
   "metadata": {},
   "outputs": [
    {
     "data": {
      "image/png": "[encoded data removed]",
      "text/plain": [
       "<Figure size 432x288 with 1 Axes>"
      ]
     },
     "metadata": {
      "needs_background": "light"
     },
     "output_type": "display_data"
    }
   ],
   "source": [
    "# Plot the results\n",
    "import matplotlib.pyplot as plt\n",
    "\n",
    "plt.scatter(y_test, y_predict, alpha=0.025) # swap 'YOUR_PREDICTIONS' with the prediction values your model produces\n",
    "plt.xlim([-200000,800000])\n",
    "plt.xlabel('Actual Value')\n",
    "plt.ylabel('Predicted Value')\n",
    "plt.ylim([-200000,800000])\n",
    "plt.plot([0,500000],[0,500000],color='k',linestyle='-')\n",
    "plt.show()"
   ]
  },
  {
   "cell_type": "markdown",
   "metadata": {},
   "source": [
    "### 4.1 Try a more advanced model\n",
    "\n",
    "Try a more complex algorithm (SVR, RandomForest, etc.) and see if the accuracy improves (train on the full training set, and then test on the full test set). We have already done this in one of the earlier assignments so this should be easy!\n",
    "\n",
    "Why does the accuracy improve when using a more complex algorithm in this case? Write a very breif answer in the cell below following your code."
   ]
  },
  {
   "cell_type": "code",
   "execution_count": null,
   "metadata": {},
   "outputs": [
    {
     "name": "stdout",
     "output_type": "stream",
     "text": [
      "Fitting 2 folds for each of 15 candidates, totalling 30 fits\n"
     ]
    },
    {
     "name": "stderr",
     "output_type": "stream",
     "text": [
      "[Parallel(n_jobs=4)]: Using backend LokyBackend with 4 concurrent workers.\n"
     ]
    }
   ],
   "source": [
    "from sklearn.svm import SVR\n",
    "import numpy as np\n",
    "from sklearn.model_selection import GridSearchCV\n",
    "\n",
    "sv_regression = SVR()\n",
    "Cs = np.logspace(5,9,base=10,num=5)\n",
    "#Cs = np.array([10,100,1000,10000])\n",
    "epsilons = np.array([0.01,0.1,1])\n",
    "parameters = {'C':Cs,'epsilon':epsilons}\n",
    "\n",
    "sv_cv = GridSearchCV(sv_regression,parameters,cv=2,n_jobs=4,verbose=4)\n",
    "sv_cv.fit(x_train_poly_scaled, y_train);"
   ]
  },
  {
   "cell_type": "code",
   "execution_count": 22,
   "metadata": {},
   "outputs": [
    {
     "data": {
      "text/plain": [
       "{'mean_fit_time': array([23.85483348, 23.89131594, 30.61499834, 30.31817591, 30.86582017,\n",
       "        31.15465295, 28.06792355, 27.84605098, 28.48768127, 28.23182523,\n",
       "        25.93538094, 25.90940571, 25.99710488, 25.93464434, 18.35698032]),\n",
       " 'std_fit_time': array([0.02148807, 0.05497026, 0.18489504, 0.17490065, 0.24536037,\n",
       "        0.23536646, 0.16290617, 0.01798868, 0.01799095, 0.11093414,\n",
       "        0.01049376, 0.01948619, 0.00498772, 0.35429895, 0.09144902]),\n",
       " 'mean_score_time': array([23.01231682, 22.94835532, 27.25788832, 27.08598673, 26.23796976,\n",
       "        25.85269237, 24.57342339, 24.91373086, 23.09727013, 22.76346195,\n",
       "        22.82761717, 22.79013479, 22.21177495, 22.16230321, 14.55566251]),\n",
       " 'std_score_time': array([0.06646025, 0.05946338, 0.26034951, 0.02048981, 0.28183639,\n",
       "        0.0974443 , 0.14042139, 0.18589115, 0.08744967, 0.13442028,\n",
       "        0.01399302, 0.15840852, 0.09644711, 0.07295799, 0.02798212]),\n",
       " 'param_C': masked_array(data=[10.0, 10.0, 10.0, 100.0, 100.0, 100.0, 1000.0, 1000.0,\n",
       "                    1000.0, 10000.0, 10000.0, 10000.0, 100000.0, 100000.0,\n",
       "                    100000.0],\n",
       "              mask=[False, False, False, False, False, False, False, False,\n",
       "                    False, False, False, False, False, False, False],\n",
       "        fill_value='?',\n",
       "             dtype=object),\n",
       " 'param_epsilon': masked_array(data=[0.01, 0.1, 1.0, 0.01, 0.1, 1.0, 0.01, 0.1, 1.0, 0.01,\n",
       "                    0.1, 1.0, 0.01, 0.1, 1.0],\n",
       "              mask=[False, False, False, False, False, False, False, False,\n",
       "                    False, False, False, False, False, False, False],\n",
       "        fill_value='?',\n",
       "             dtype=object),\n",
       " 'params': [{'C': 10.0, 'epsilon': 0.01},\n",
       "  {'C': 10.0, 'epsilon': 0.1},\n",
       "  {'C': 10.0, 'epsilon': 1.0},\n",
       "  {'C': 100.0, 'epsilon': 0.01},\n",
       "  {'C': 100.0, 'epsilon': 0.1},\n",
       "  {'C': 100.0, 'epsilon': 1.0},\n",
       "  {'C': 1000.0, 'epsilon': 0.01},\n",
       "  {'C': 1000.0, 'epsilon': 0.1},\n",
       "  {'C': 1000.0, 'epsilon': 1.0},\n",
       "  {'C': 10000.0, 'epsilon': 0.01},\n",
       "  {'C': 10000.0, 'epsilon': 0.1},\n",
       "  {'C': 10000.0, 'epsilon': 1.0},\n",
       "  {'C': 100000.0, 'epsilon': 0.01},\n",
       "  {'C': 100000.0, 'epsilon': 0.1},\n",
       "  {'C': 100000.0, 'epsilon': 1.0}],\n",
       " 'split0_test_score': array([-0.00873151, -0.00873168, -0.00873506,  0.19760781,  0.19760818,\n",
       "         0.19761188,  0.54786531,  0.54786528,  0.547865  ,  0.70229831,\n",
       "         0.70229831,  0.70229836,  0.74525116,  0.74525118,  0.74525146]),\n",
       " 'split1_test_score': array([-0.03518897, -0.03518905, -0.03518984,  0.1672606 ,  0.16726048,\n",
       "         0.16725927,  0.52105273,  0.5210528 ,  0.52105345,  0.68142698,\n",
       "         0.68142697,  0.68142691,  0.72779112,  0.7277911 ,  0.72779089]),\n",
       " 'mean_test_score': array([-0.02195933, -0.02195945, -0.02196154,  0.18243526,  0.18243538,\n",
       "         0.18243662,  0.53445995,  0.53445997,  0.53446015,  0.69186337,\n",
       "         0.69186337,  0.69186336,  0.73652174,  0.73652174,  0.73652178]),\n",
       " 'std_test_score': array([0.01322873, 0.01322869, 0.01322739, 0.0151736 , 0.01517385,\n",
       "        0.01517631, 0.01340629, 0.01340624, 0.01340577, 0.01043567,\n",
       "        0.01043567, 0.01043572, 0.00873002, 0.00873004, 0.00873029]),\n",
       " 'rank_test_score': array([13, 14, 15, 12, 11, 10,  9,  8,  7,  4,  5,  6,  2,  3,  1])}"
      ]
     },
     "execution_count": 22,
     "metadata": {},
     "output_type": "execute_result"
    }
   ],
   "source": [
    "sv_cv.cv_results_"
   ]
  },
  {
   "cell_type": "markdown",
   "metadata": {},
   "source": [
    "##### YOUR ANSWER HERE "
   ]
  },
  {
   "cell_type": "markdown",
   "metadata": {},
   "source": [
    "# BONUS QUESTIONS"
   ]
  },
  {
   "cell_type": "markdown",
   "metadata": {},
   "source": [
    "#[Optional]\n",
    "Why does the matrix X appears transponsed in the normal equation in the linear regression? Equation 4.4. Start from equation 4.3\n",
    "\n"
   ]
  },
  {
   "cell_type": "code",
   "execution_count": null,
   "metadata": {
    "collapsed": true,
    "jupyter": {
     "outputs_hidden": true
    }
   },
   "outputs": [],
   "source": []
  },
  {
   "cell_type": "markdown",
   "metadata": {},
   "source": [
    "#[Optional]\n",
    "Do all Gradient Descent algorithms lead to the same model provided you let them run long enough?\n",
    "\n"
   ]
  },
  {
   "cell_type": "code",
   "execution_count": null,
   "metadata": {
    "collapsed": true,
    "jupyter": {
     "outputs_hidden": true
    }
   },
   "outputs": [],
   "source": []
  },
  {
   "cell_type": "markdown",
   "metadata": {},
   "source": [
    "#[Optional]\n",
    "Is it a good idea to stop Mini-batch Gradient Descent immediately when the validation error goes up?\n",
    "\n"
   ]
  },
  {
   "cell_type": "code",
   "execution_count": null,
   "metadata": {
    "collapsed": true,
    "jupyter": {
     "outputs_hidden": true
    }
   },
   "outputs": [],
   "source": []
  },
  {
   "cell_type": "markdown",
   "metadata": {},
   "source": [
    "#[Optional]\n",
    "Suppose you are using Ridge Regression and you notice that the training error and the validation error are almost equal and fairly high. Would you say that the model suffers from high bias or high variance? Should you increase the regularization hyperparameter α or reduce it?\n",
    "\n"
   ]
  },
  {
   "cell_type": "code",
   "execution_count": null,
   "metadata": {
    "collapsed": true,
    "jupyter": {
     "outputs_hidden": true
    }
   },
   "outputs": [],
   "source": []
  },
  {
   "cell_type": "markdown",
   "metadata": {},
   "source": [
    "#[Optional]\n",
    "Why does the matrix X appears transponsed in the normal equation in the linear regression? Equation 4.4. Start from equation 4.3\n",
    "\n"
   ]
  },
  {
   "cell_type": "code",
   "execution_count": null,
   "metadata": {
    "collapsed": true,
    "jupyter": {
     "outputs_hidden": true
    }
   },
   "outputs": [],
   "source": []
  }
 ],
 "metadata": {
  "kernelspec": {
   "display_name": "Python 3",
   "language": "python",
   "name": "python3"
  },
  "language_info": {
   "codemirror_mode": {
    "name": "ipython",
    "version": 3
   },
   "file_extension": ".py",
   "mimetype": "text/x-python",
   "name": "python",
   "nbconvert_exporter": "python",
   "pygments_lexer": "ipython3",
   "version": "3.6.9"
  },
  "toc-autonumbering": false
 },
 "nbformat": 4,
 "nbformat_minor": 4
}
